{
 "cells": [
  {
   "cell_type": "code",
   "execution_count": 1,
   "metadata": {},
   "outputs": [
    {
     "name": "stdout",
     "output_type": "stream",
     "text": [
      "/Users/momowang/Documents/2025/LAB/code/EHRSHOT\n"
     ]
    }
   ],
   "source": [
    "import json\n",
    "import numpy as np\n",
    "from sklearn.linear_model import LogisticRegression\n",
    "from sklearn.metrics import roc_auc_score, classification_report\n",
    "import os\n",
    "\n",
    "print(os.getcwd())\n",
    "\n",
    "with open(\"new_lupus/all_shots_data.json\", \"r\") as f:\n",
    "    all_data = json.load(f)\n"
   ]
  },
  {
   "cell_type": "code",
   "execution_count": 3,
   "metadata": {},
   "outputs": [
    {
     "name": "stdout",
     "output_type": "stream",
     "text": [
      "dict_keys(['new_lupus'])\n",
      "dict_keys(['1', '2', '4', '8', '12', '16', '24', '32', '48', '64', '128', '-1'])\n",
      "\n",
      "1-shot: 5 folds; train=2, val=2\n",
      "\n",
      "2-shot: 5 folds; train=4, val=4\n",
      "\n",
      "4-shot: 5 folds; train=8, val=8\n",
      "\n",
      "8-shot: 5 folds; train=16, val=16\n",
      "\n",
      "12-shot: 5 folds; train=24, val=24\n",
      "\n",
      "16-shot: 5 folds; train=32, val=32\n",
      "\n",
      "24-shot: 5 folds; train=48, val=48\n",
      "\n",
      "32-shot: 5 folds; train=64, val=64\n",
      "\n",
      "48-shot: 5 folds; train=96, val=96\n",
      "\n",
      "64-shot: 5 folds; train=128, val=128\n",
      "\n",
      "128-shot: 5 folds; train=256, val=256\n",
      "\n",
      "-1-shot: 1 folds; train=2570, val=2225\n"
     ]
    }
   ],
   "source": [
    "print(all_data.keys())\n",
    "task_data = all_data[\"new_lupus\"]\n",
    "print(task_data.keys())\n",
    "\n",
    "for shot, folds in task_data.items():\n",
    "    sample_fold = next(iter(folds.values()))\n",
    "    n_train = len(sample_fold[\"label_values_train_k\"])\n",
    "    n_val = len(sample_fold[\"label_values_val_k\"])\n",
    "    print(f\"\\n{shot}-shot: {len(folds)} folds; train={n_train}, val={n_val}\")"
   ]
  },
  {
   "cell_type": "code",
   "execution_count": 4,
   "metadata": {},
   "outputs": [],
   "source": [
    "import json\n",
    "import pickle\n",
    "import numpy as np\n",
    "import pandas as pd\n",
    "from sklearn.linear_model import LogisticRegression\n",
    "from sklearn.metrics import classification_report, roc_auc_score\n",
    "import os\n",
    "\n",
    "### ====== File Path ======\n",
    "TASK_NAME = \"new_lupus\"\n",
    "SHOT = \"8\"\n",
    "FOLD = \"0\"\n",
    "\n",
    "ROOT = \"new_lupus\"  \n",
    "\n",
    "FEATURE_PATH = \"features/clmbr_features.pkl\"\n",
    "ID_MAP_PATH = \"splits/person_id_map.csv\"\n",
    "LABEL_PATH = f\"new_lupus/all_shots_data.json\"\n",
    "\n",
    "# ===== Feature =====\n",
    "with open(\"features/clmbr_features.pkl\", \"rb\") as f:\n",
    "    clmbr_features = pickle.load(f)\n",
    "\n",
    "X_matrix = np.array(clmbr_features[\"data_matrix\"])\n",
    "patient_ids = np.array(clmbr_features[\"patient_ids\"])\n",
    "\n",
    "features_df = pd.DataFrame(X_matrix, index=patient_ids)\n",
    "features_df.index = features_df.index.astype(int)\n",
    "\n",
    "# ===== single  fold=====\n",
    "TASK_NAME = \"new_lupus\"\n",
    "SHOT = \"8\"\n",
    "FOLD = \"0\"\n",
    "\n",
    "with open(f\"{TASK_NAME}/all_shots_data.json\", \"r\") as f:\n",
    "    all_data = json.load(f)\n",
    "\n",
    "fold_data = all_data[TASK_NAME][SHOT][FOLD]\n",
    "\n",
    "# train_idxs is the row number of features_df.values\n",
    "train_idxs = fold_data[\"train_idxs\"]\n",
    "val_idxs   = fold_data[\"val_idxs\"]\n",
    "\n",
    "# use train_idxs and val_idxs to index features\n",
    "X_train = features_df.values[train_idxs]\n",
    "X_val   = features_df.values[val_idxs]\n",
    "\n",
    "# do not use train_idxs to index label, just use it\n",
    "y_train = np.array(fold_data[\"label_values_train_k\"])\n",
    "y_val   = np.array(fold_data[\"label_values_val_k\"])\n",
    "\n",
    "# =====all folds folded=====\n",
    "X_train_list, y_train_list = [], []\n",
    "X_val_list,   y_val_list   = [], []\n",
    "\n",
    "for fold in [\"0\", \"1\", \"2\", \"3\", \"4\"]:\n",
    "    fold_data = all_data[TASK_NAME][SHOT][fold]\n",
    "    \n",
    "    train_idxs = fold_data[\"train_idxs\"]\n",
    "    val_idxs   = fold_data[\"val_idxs\"]\n",
    "    \n",
    "    X_train_list.append(features_df.values[train_idxs])\n",
    "    y_train_list.append(np.array(fold_data[\"label_values_train_k\"]))\n",
    "    \n",
    "    X_val_list.append(features_df.values[val_idxs])\n",
    "    y_val_list.append(np.array(fold_data[\"label_values_val_k\"]))\n",
    "\n",
    "X_train = np.concatenate(X_train_list, axis=0)\n",
    "y_train = np.concatenate(y_train_list, axis=0)\n",
    "\n",
    "X_val = np.concatenate(X_val_list, axis=0)\n",
    "y_val = np.concatenate(y_val_list, axis=0)"
   ]
  },
  {
   "cell_type": "code",
   "execution_count": 5,
   "metadata": {},
   "outputs": [
    {
     "name": "stdout",
     "output_type": "stream",
     "text": [
      "(80, 768)\n"
     ]
    }
   ],
   "source": [
    "print(X_train.shape)"
   ]
  },
  {
   "cell_type": "code",
   "execution_count": 6,
   "metadata": {},
   "outputs": [
    {
     "name": "stdout",
     "output_type": "stream",
     "text": [
      "ROC-AUC: 0.56375\n",
      "Classification Report:\n",
      "               precision    recall  f1-score   support\n",
      "\n",
      "       False       0.51      0.70      0.59        40\n",
      "        True       0.52      0.33      0.40        40\n",
      "\n",
      "    accuracy                           0.51        80\n",
      "   macro avg       0.51      0.51      0.49        80\n",
      "weighted avg       0.51      0.51      0.49        80\n",
      "\n"
     ]
    }
   ],
   "source": [
    "model = LogisticRegression(max_iter=1000)\n",
    "model.fit(X_train, y_train)\n",
    "\n",
    "y_pred = model.predict(X_val)\n",
    "y_proba = model.predict_proba(X_val)[:, 1]\n",
    "\n",
    "print(\"ROC-AUC:\", roc_auc_score(y_val, y_proba))\n",
    "print(\"Classification Report:\\n\", classification_report(y_val, y_pred))"
   ]
  }
 ],
 "metadata": {
  "kernelspec": {
   "display_name": "Python 3",
   "language": "python",
   "name": "python3"
  },
  "language_info": {
   "codemirror_mode": {
    "name": "ipython",
    "version": 3
   },
   "file_extension": ".py",
   "mimetype": "text/x-python",
   "name": "python",
   "nbconvert_exporter": "python",
   "pygments_lexer": "ipython3",
   "version": "3.12.3"
  }
 },
 "nbformat": 4,
 "nbformat_minor": 2
}
